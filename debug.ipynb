{
 "cells": [
  {
   "cell_type": "code",
   "execution_count": 73,
   "metadata": {},
   "outputs": [],
   "source": [
    "import pandas as pd\n",
    "import numpy as np\n",
    "from pathlib import Path\n",
    "import datetime as dt\n",
    "from glob import glob\n",
    "PATH = Path().parent"
   ]
  },
  {
   "cell_type": "code",
   "execution_count": 97,
   "metadata": {},
   "outputs": [],
   "source": [
    "def get_df_excel(df_name:str | None = 'list-pegawai - Copy') -> pd.DataFrame:\n",
    "    df = pd.read_excel(PATH / f'{df_name}.xlsx', index_col=0)\n",
    "    return df\n",
    "\n",
    "def get_current_shift(df:pd.DataFrame) -> pd.DataFrame:\n",
    "    #get current shift data\n",
    "    now: str = dt.datetime.now().strftime('%H:%M:%S')\n",
    "    hours_now: str = now.split(':')[0]\n",
    "    # df['Shift'].apply(pd.to_numeric)\n",
    "    df = df[df['Shift'] >= int(hours_now)]\n",
    "    # print(df['Shift'])\n",
    "    return_df: list[dict] = []\n",
    "    for i in range(3):\n",
    "        return_df.append(df.iloc[i].to_dict())\n",
    "        # print(df.iloc[i].to_dict())\n",
    "    return return_df\n",
    "\n",
    "def check_valid_photos(df:list[dict]) -> list[dict]:\n",
    "    for x,data in enumerate(df):\n",
    "        try:\n",
    "            valid = glob(PATH / 'static' / 'images' / f'{data[\"Nama File\"]}.*')\n",
    "            df[x]['Nama File'] = valid[0]\n",
    "        except:\n",
    "            df[x]['Nama File'] = 'template_photo.jpeg' \n",
    "    return df\n",
    "\n",
    "def set_nama_file(df:list[dict]) -> list[dict]:\n",
    "    for x,data in enumerate(df):\n",
    "        df[x]['Nama File'] = \"{{\" + \"url_for('static',filename='images/{change}.jpg')\".format(change=data['Nama File']) + \"}}\"\n",
    "    return df\n",
    "\n"
   ]
  },
  {
   "cell_type": "code",
   "execution_count": 98,
   "metadata": {},
   "outputs": [],
   "source": [
    "df = get_df_excel()\n",
    "table = get_current_shift(df)\n",
    "table = check_valid_photos(table)\n",
    "table = set_nama_file(table)"
   ]
  },
  {
   "cell_type": "code",
   "execution_count": 99,
   "metadata": {},
   "outputs": [
    {
     "data": {
      "text/plain": [
       "[{'Nama': 'Ni Wayan Dertiari',\n",
       "  'Nama File': \"{{url_for('static',filename='images/template_photo.jpeg.jpg')}}\",\n",
       "  'NIP': \"'196912241990032001\",\n",
       "  'Shift': 8},\n",
       " {'Nama': 'Tirtha Wijaya,  SP',\n",
       "  'Nama File': \"{{url_for('static',filename='images/template_photo.jpeg.jpg')}}\",\n",
       "  'NIP': \"'197312051995031001\",\n",
       "  'Shift': 8},\n",
       " {'Nama': 'Ni Wayan Budhi Anggraeni,  ST.',\n",
       "  'Nama File': \"{{url_for('static',filename='images/template_photo.jpeg.jpg')}}\",\n",
       "  'NIP': \"'197804042008012032\",\n",
       "  'Shift': 8}]"
      ]
     },
     "execution_count": 99,
     "metadata": {},
     "output_type": "execute_result"
    }
   ],
   "source": [
    "table"
   ]
  },
  {
   "cell_type": "code",
   "execution_count": 33,
   "metadata": {},
   "outputs": [],
   "source": [
    "from datetime import datetime"
   ]
  },
  {
   "cell_type": "code",
   "execution_count": 37,
   "metadata": {},
   "outputs": [],
   "source": [
    "now = datetime.now().strftime('%H:%M:%S')"
   ]
  },
  {
   "cell_type": "code",
   "execution_count": 38,
   "metadata": {},
   "outputs": [
    {
     "data": {
      "text/plain": [
       "'00:19:15'"
      ]
     },
     "execution_count": 38,
     "metadata": {},
     "output_type": "execute_result"
    }
   ],
   "source": [
    "now"
   ]
  },
  {
   "cell_type": "code",
   "execution_count": null,
   "metadata": {},
   "outputs": [],
   "source": []
  }
 ],
 "metadata": {
  "kernelspec": {
   "display_name": "Python 3",
   "language": "python",
   "name": "python3"
  },
  "language_info": {
   "codemirror_mode": {
    "name": "ipython",
    "version": 3
   },
   "file_extension": ".py",
   "mimetype": "text/x-python",
   "name": "python",
   "nbconvert_exporter": "python",
   "pygments_lexer": "ipython3",
   "version": "3.10.7"
  },
  "orig_nbformat": 4
 },
 "nbformat": 4,
 "nbformat_minor": 2
}
