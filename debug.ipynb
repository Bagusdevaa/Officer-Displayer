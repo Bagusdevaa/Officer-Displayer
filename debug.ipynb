{
 "cells": [
  {
   "cell_type": "code",
   "execution_count": 43,
   "metadata": {},
   "outputs": [],
   "source": [
    "import pandas as pd\n",
    "import numpy as np\n",
    "from pathlib import Path\n",
    "import datetime as dt\n",
    "PATH = Path().parent\n",
    "IMAGEDIR = PATH/'static'/'images'"
   ]
  },
  {
   "cell_type": "code",
   "execution_count": 56,
   "metadata": {},
   "outputs": [],
   "source": [
    "def get_df_excel(df_name:str | None = 'list-pegawai - Copy') -> pd.DataFrame:\n",
    "    df = pd.read_excel(PATH / f'{df_name}.xlsx', index_col=0)\n",
    "    return df\n",
    "\n",
    "def get_current_shift(df:pd.DataFrame) -> pd.DataFrame:\n",
    "    #get current shift data\n",
    "    now: str = dt.datetime.now().strftime('%H:%M:%S')\n",
    "    hours_now: str = now.split(':')[0]\n",
    "    # df['Shift'].apply(pd.to_numeric)\n",
    "    df = df[df['Shift'] >= int(hours_now)]\n",
    "    # print(df['Shift'])\n",
    "    return_df: list[dict] = []\n",
    "    for i in range(6):\n",
    "        return_df.append(df.iloc[-i].to_dict())\n",
    "        # print(df.iloc[i].to_dict())\n",
    "    return return_df\n",
    "\n",
    "def check_valid_photos(df:list[dict]) -> list[dict]:\n",
    "    for x,data in enumerate(df):\n",
    "        try:\n",
    "            print(data['Nama File'])\n",
    "            valid = str(next(IMAGEDIR.glob(f'{data[\"Nama File\"]}.*')))\n",
    "            \n",
    "            print(valid)\n",
    "            df[x]['Nama File'] = valid.split('\\\\')[-1]\n",
    "            print(df[x]['Nama File'])\n",
    "        except:\n",
    "            df[x]['Nama File'] = 'template_photo.jpeg' \n",
    "    return df\n",
    "\n",
    "def set_nama_file(df:list[dict]) -> list[dict]:\n",
    "    for x,data in enumerate(df):\n",
    "        df[x]['Nama File'] = \"{{\" + \"url_for('static',filename='images/{change}')\".format(change=data['Nama File']) + \"}}\"\n",
    "    return df\n",
    "\n"
   ]
  },
  {
   "cell_type": "code",
   "execution_count": 57,
   "metadata": {},
   "outputs": [
    {
     "name": "stdout",
     "output_type": "stream",
     "text": [
      "Ni Wayan Dertiari\n",
      "Diana Siregar\n",
      "Rizki Dwi Saputro, S.Tr\n",
      "static\\images\\Rizki Dwi Saputro, S.Tr.jpg\n",
      "Rizki Dwi Saputro, S.Tr.jpg\n",
      "A. A. Putu Eka Putra Wirawan\n",
      "Kd. Diana Anggariati\n",
      "I Made Sudarmayadnya\n"
     ]
    }
   ],
   "source": [
    "df = get_df_excel()\n",
    "table = get_current_shift(df)\n",
    "table = check_valid_photos(table)\n",
    "table = set_nama_file(table)"
   ]
  },
  {
   "cell_type": "code",
   "execution_count": 58,
   "metadata": {},
   "outputs": [
    {
     "data": {
      "text/plain": [
       "[{'Nama': 'Ni Wayan Dertiari',\n",
       "  'Nama File': \"{{url_for('static',filename='images/template_photo.jpeg')}}\",\n",
       "  'NIP': \"'196912241990032001\",\n",
       "  'Shift': 8},\n",
       " {'Nama': 'Diana Siregar',\n",
       "  'Nama File': \"{{url_for('static',filename='images/template_photo.jpeg')}}\",\n",
       "  'NIP': \"'199311112013122001\",\n",
       "  'Shift': 20},\n",
       " {'Nama': 'Rizki Dwi Saputro, S.Tr',\n",
       "  'Nama File': \"{{url_for('static',filename='images/Rizki Dwi Saputro, S.Tr.jpg')}}\",\n",
       "  'NIP': \"'199308272013121001\",\n",
       "  'Shift': 14},\n",
       " {'Nama': 'A. A. Putu Eka Putra Wirawan',\n",
       "  'Nama File': \"{{url_for('static',filename='images/template_photo.jpeg')}}\",\n",
       "  'NIP': \"'198212232006041002\",\n",
       "  'Shift': 14},\n",
       " {'Nama': 'Kd. Diana Anggariati, SP',\n",
       "  'Nama File': \"{{url_for('static',filename='images/template_photo.jpeg')}}\",\n",
       "  'NIP': \"'196705231990032002\",\n",
       "  'Shift': 14},\n",
       " {'Nama': 'I Made Sudarma Yadnya,  S.Si',\n",
       "  'Nama File': \"{{url_for('static',filename='images/template_photo.jpeg')}}\",\n",
       "  'NIP': \"'198103222007011013\",\n",
       "  'Shift': 8}]"
      ]
     },
     "execution_count": 58,
     "metadata": {},
     "output_type": "execute_result"
    }
   ],
   "source": [
    "table"
   ]
  },
  {
   "cell_type": "markdown",
   "metadata": {},
   "source": []
  },
  {
   "cell_type": "code",
   "execution_count": 47,
   "metadata": {},
   "outputs": [],
   "source": [
    "from datetime import datetime"
   ]
  },
  {
   "cell_type": "code",
   "execution_count": 48,
   "metadata": {},
   "outputs": [],
   "source": [
    "now = datetime.now().strftime('%H:%M:%S')"
   ]
  },
  {
   "cell_type": "code",
   "execution_count": 49,
   "metadata": {},
   "outputs": [
    {
     "data": {
      "text/plain": [
       "'02:18:57'"
      ]
     },
     "execution_count": 49,
     "metadata": {},
     "output_type": "execute_result"
    }
   ],
   "source": [
    "now"
   ]
  },
  {
   "cell_type": "code",
   "execution_count": 50,
   "metadata": {},
   "outputs": [],
   "source": [
    "IMAGEDIR = PATH / 'static' / 'images'"
   ]
  },
  {
   "cell_type": "code",
   "execution_count": 51,
   "metadata": {},
   "outputs": [
    {
     "name": "stdout",
     "output_type": "stream",
     "text": [
      "\n"
     ]
    }
   ],
   "source": [
    "print(*[f for f in IMAGEDIR.glob('Riski Dwi Saputro, S.Tr.*')],sep='\\n')"
   ]
  },
  {
   "cell_type": "code",
   "execution_count": 52,
   "metadata": {},
   "outputs": [
    {
     "data": {
      "text/plain": [
       "[WindowsPath('static/images/Rizki Dwi Saputro, S.Tr.jpg')]"
      ]
     },
     "execution_count": 52,
     "metadata": {},
     "output_type": "execute_result"
    }
   ],
   "source": [
    "import glob, os\n",
    "name = 'Rizki Dwi Saputro, S.Tr'\n",
    "\n",
    "list(IMAGEDIR.glob(f'{name}.*'))"
   ]
  }
 ],
 "metadata": {
  "kernelspec": {
   "display_name": "Python 3",
   "language": "python",
   "name": "python3"
  },
  "language_info": {
   "codemirror_mode": {
    "name": "ipython",
    "version": 3
   },
   "file_extension": ".py",
   "mimetype": "text/x-python",
   "name": "python",
   "nbconvert_exporter": "python",
   "pygments_lexer": "ipython3",
   "version": "3.10.7"
  },
  "orig_nbformat": 4
 },
 "nbformat": 4,
 "nbformat_minor": 2
}
